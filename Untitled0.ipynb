{
  "nbformat": 4,
  "nbformat_minor": 0,
  "metadata": {
    "colab": {
      "name": "Untitled0.ipynb",
      "provenance": [],
      "collapsed_sections": [],
      "authorship_tag": "ABX9TyOYOWEiAcpUBwxE/eSu1RGK",
      "include_colab_link": true
    },
    "kernelspec": {
      "name": "python3",
      "display_name": "Python 3"
    },
    "widgets": {
      "application/vnd.jupyter.widget-state+json": {
        "7975e42075d34b1293fdd9c2d83a6909": {
          "model_module": "@jupyter-widgets/controls",
          "model_name": "HBoxModel",
          "state": {
            "_view_name": "HBoxView",
            "_dom_classes": [],
            "_model_name": "HBoxModel",
            "_view_module": "@jupyter-widgets/controls",
            "_model_module_version": "1.5.0",
            "_view_count": null,
            "_view_module_version": "1.5.0",
            "box_style": "",
            "layout": "IPY_MODEL_7814b0405fe94a3b89b3e11bb6719959",
            "_model_module": "@jupyter-widgets/controls",
            "children": [
              "IPY_MODEL_f9a53a7be626400f8fa705403cbde9fd",
              "IPY_MODEL_85afe0f4a3e74ef09882ce474edcf9fb"
            ]
          }
        },
        "7814b0405fe94a3b89b3e11bb6719959": {
          "model_module": "@jupyter-widgets/base",
          "model_name": "LayoutModel",
          "state": {
            "_view_name": "LayoutView",
            "grid_template_rows": null,
            "right": null,
            "justify_content": null,
            "_view_module": "@jupyter-widgets/base",
            "overflow": null,
            "_model_module_version": "1.2.0",
            "_view_count": null,
            "flex_flow": null,
            "width": null,
            "min_width": null,
            "border": null,
            "align_items": null,
            "bottom": null,
            "_model_module": "@jupyter-widgets/base",
            "top": null,
            "grid_column": null,
            "overflow_y": null,
            "overflow_x": null,
            "grid_auto_flow": null,
            "grid_area": null,
            "grid_template_columns": null,
            "flex": null,
            "_model_name": "LayoutModel",
            "justify_items": null,
            "grid_row": null,
            "max_height": null,
            "align_content": null,
            "visibility": null,
            "align_self": null,
            "height": null,
            "min_height": null,
            "padding": null,
            "grid_auto_rows": null,
            "grid_gap": null,
            "max_width": null,
            "order": null,
            "_view_module_version": "1.2.0",
            "grid_template_areas": null,
            "object_position": null,
            "object_fit": null,
            "grid_auto_columns": null,
            "margin": null,
            "display": null,
            "left": null
          }
        },
        "f9a53a7be626400f8fa705403cbde9fd": {
          "model_module": "@jupyter-widgets/controls",
          "model_name": "FloatProgressModel",
          "state": {
            "_view_name": "ProgressView",
            "style": "IPY_MODEL_d768ca1424cd4f0bb9a449b8ea16b444",
            "_dom_classes": [],
            "description": "",
            "_model_name": "FloatProgressModel",
            "bar_style": "success",
            "max": 1,
            "_view_module": "@jupyter-widgets/controls",
            "_model_module_version": "1.5.0",
            "value": 1,
            "_view_count": null,
            "_view_module_version": "1.5.0",
            "orientation": "horizontal",
            "min": 0,
            "description_tooltip": null,
            "_model_module": "@jupyter-widgets/controls",
            "layout": "IPY_MODEL_5eb11e3645b44549a821bd279d6b2240"
          }
        },
        "85afe0f4a3e74ef09882ce474edcf9fb": {
          "model_module": "@jupyter-widgets/controls",
          "model_name": "HTMLModel",
          "state": {
            "_view_name": "HTMLView",
            "style": "IPY_MODEL_a6cadaee62c142c6b69f65fd88632ffa",
            "_dom_classes": [],
            "description": "",
            "_model_name": "HTMLModel",
            "placeholder": "​",
            "_view_module": "@jupyter-widgets/controls",
            "_model_module_version": "1.5.0",
            "value": " 9920512/? [00:03&lt;00:00, 3078447.61it/s]",
            "_view_count": null,
            "_view_module_version": "1.5.0",
            "description_tooltip": null,
            "_model_module": "@jupyter-widgets/controls",
            "layout": "IPY_MODEL_373bb8ac3c8547ff8aca965158a19f4b"
          }
        },
        "d768ca1424cd4f0bb9a449b8ea16b444": {
          "model_module": "@jupyter-widgets/controls",
          "model_name": "ProgressStyleModel",
          "state": {
            "_view_name": "StyleView",
            "_model_name": "ProgressStyleModel",
            "description_width": "initial",
            "_view_module": "@jupyter-widgets/base",
            "_model_module_version": "1.5.0",
            "_view_count": null,
            "_view_module_version": "1.2.0",
            "bar_color": null,
            "_model_module": "@jupyter-widgets/controls"
          }
        },
        "5eb11e3645b44549a821bd279d6b2240": {
          "model_module": "@jupyter-widgets/base",
          "model_name": "LayoutModel",
          "state": {
            "_view_name": "LayoutView",
            "grid_template_rows": null,
            "right": null,
            "justify_content": null,
            "_view_module": "@jupyter-widgets/base",
            "overflow": null,
            "_model_module_version": "1.2.0",
            "_view_count": null,
            "flex_flow": null,
            "width": null,
            "min_width": null,
            "border": null,
            "align_items": null,
            "bottom": null,
            "_model_module": "@jupyter-widgets/base",
            "top": null,
            "grid_column": null,
            "overflow_y": null,
            "overflow_x": null,
            "grid_auto_flow": null,
            "grid_area": null,
            "grid_template_columns": null,
            "flex": null,
            "_model_name": "LayoutModel",
            "justify_items": null,
            "grid_row": null,
            "max_height": null,
            "align_content": null,
            "visibility": null,
            "align_self": null,
            "height": null,
            "min_height": null,
            "padding": null,
            "grid_auto_rows": null,
            "grid_gap": null,
            "max_width": null,
            "order": null,
            "_view_module_version": "1.2.0",
            "grid_template_areas": null,
            "object_position": null,
            "object_fit": null,
            "grid_auto_columns": null,
            "margin": null,
            "display": null,
            "left": null
          }
        },
        "a6cadaee62c142c6b69f65fd88632ffa": {
          "model_module": "@jupyter-widgets/controls",
          "model_name": "DescriptionStyleModel",
          "state": {
            "_view_name": "StyleView",
            "_model_name": "DescriptionStyleModel",
            "description_width": "",
            "_view_module": "@jupyter-widgets/base",
            "_model_module_version": "1.5.0",
            "_view_count": null,
            "_view_module_version": "1.2.0",
            "_model_module": "@jupyter-widgets/controls"
          }
        },
        "373bb8ac3c8547ff8aca965158a19f4b": {
          "model_module": "@jupyter-widgets/base",
          "model_name": "LayoutModel",
          "state": {
            "_view_name": "LayoutView",
            "grid_template_rows": null,
            "right": null,
            "justify_content": null,
            "_view_module": "@jupyter-widgets/base",
            "overflow": null,
            "_model_module_version": "1.2.0",
            "_view_count": null,
            "flex_flow": null,
            "width": null,
            "min_width": null,
            "border": null,
            "align_items": null,
            "bottom": null,
            "_model_module": "@jupyter-widgets/base",
            "top": null,
            "grid_column": null,
            "overflow_y": null,
            "overflow_x": null,
            "grid_auto_flow": null,
            "grid_area": null,
            "grid_template_columns": null,
            "flex": null,
            "_model_name": "LayoutModel",
            "justify_items": null,
            "grid_row": null,
            "max_height": null,
            "align_content": null,
            "visibility": null,
            "align_self": null,
            "height": null,
            "min_height": null,
            "padding": null,
            "grid_auto_rows": null,
            "grid_gap": null,
            "max_width": null,
            "order": null,
            "_view_module_version": "1.2.0",
            "grid_template_areas": null,
            "object_position": null,
            "object_fit": null,
            "grid_auto_columns": null,
            "margin": null,
            "display": null,
            "left": null
          }
        },
        "907dadaa4d7b4966b58fddfe682f7ee3": {
          "model_module": "@jupyter-widgets/controls",
          "model_name": "HBoxModel",
          "state": {
            "_view_name": "HBoxView",
            "_dom_classes": [],
            "_model_name": "HBoxModel",
            "_view_module": "@jupyter-widgets/controls",
            "_model_module_version": "1.5.0",
            "_view_count": null,
            "_view_module_version": "1.5.0",
            "box_style": "",
            "layout": "IPY_MODEL_da385757e63c4a63be317be2315af7f8",
            "_model_module": "@jupyter-widgets/controls",
            "children": [
              "IPY_MODEL_879b323c3ceb43b78ccb5c9349de0555",
              "IPY_MODEL_066639b6a8db4e32bc621365daa82808"
            ]
          }
        },
        "da385757e63c4a63be317be2315af7f8": {
          "model_module": "@jupyter-widgets/base",
          "model_name": "LayoutModel",
          "state": {
            "_view_name": "LayoutView",
            "grid_template_rows": null,
            "right": null,
            "justify_content": null,
            "_view_module": "@jupyter-widgets/base",
            "overflow": null,
            "_model_module_version": "1.2.0",
            "_view_count": null,
            "flex_flow": null,
            "width": null,
            "min_width": null,
            "border": null,
            "align_items": null,
            "bottom": null,
            "_model_module": "@jupyter-widgets/base",
            "top": null,
            "grid_column": null,
            "overflow_y": null,
            "overflow_x": null,
            "grid_auto_flow": null,
            "grid_area": null,
            "grid_template_columns": null,
            "flex": null,
            "_model_name": "LayoutModel",
            "justify_items": null,
            "grid_row": null,
            "max_height": null,
            "align_content": null,
            "visibility": null,
            "align_self": null,
            "height": null,
            "min_height": null,
            "padding": null,
            "grid_auto_rows": null,
            "grid_gap": null,
            "max_width": null,
            "order": null,
            "_view_module_version": "1.2.0",
            "grid_template_areas": null,
            "object_position": null,
            "object_fit": null,
            "grid_auto_columns": null,
            "margin": null,
            "display": null,
            "left": null
          }
        },
        "879b323c3ceb43b78ccb5c9349de0555": {
          "model_module": "@jupyter-widgets/controls",
          "model_name": "FloatProgressModel",
          "state": {
            "_view_name": "ProgressView",
            "style": "IPY_MODEL_4265c11552134635a0eb986be1398370",
            "_dom_classes": [],
            "description": "",
            "_model_name": "FloatProgressModel",
            "bar_style": "success",
            "max": 1,
            "_view_module": "@jupyter-widgets/controls",
            "_model_module_version": "1.5.0",
            "value": 1,
            "_view_count": null,
            "_view_module_version": "1.5.0",
            "orientation": "horizontal",
            "min": 0,
            "description_tooltip": null,
            "_model_module": "@jupyter-widgets/controls",
            "layout": "IPY_MODEL_3c944a5b397843fa822c1b5fe0256169"
          }
        },
        "066639b6a8db4e32bc621365daa82808": {
          "model_module": "@jupyter-widgets/controls",
          "model_name": "HTMLModel",
          "state": {
            "_view_name": "HTMLView",
            "style": "IPY_MODEL_fad60836976f41bbad0473312d9c9e56",
            "_dom_classes": [],
            "description": "",
            "_model_name": "HTMLModel",
            "placeholder": "​",
            "_view_module": "@jupyter-widgets/controls",
            "_model_module_version": "1.5.0",
            "value": " 32768/? [00:00&lt;00:00, 123484.69it/s]",
            "_view_count": null,
            "_view_module_version": "1.5.0",
            "description_tooltip": null,
            "_model_module": "@jupyter-widgets/controls",
            "layout": "IPY_MODEL_abde5eaefda44a5c83bd56336b130a86"
          }
        },
        "4265c11552134635a0eb986be1398370": {
          "model_module": "@jupyter-widgets/controls",
          "model_name": "ProgressStyleModel",
          "state": {
            "_view_name": "StyleView",
            "_model_name": "ProgressStyleModel",
            "description_width": "initial",
            "_view_module": "@jupyter-widgets/base",
            "_model_module_version": "1.5.0",
            "_view_count": null,
            "_view_module_version": "1.2.0",
            "bar_color": null,
            "_model_module": "@jupyter-widgets/controls"
          }
        },
        "3c944a5b397843fa822c1b5fe0256169": {
          "model_module": "@jupyter-widgets/base",
          "model_name": "LayoutModel",
          "state": {
            "_view_name": "LayoutView",
            "grid_template_rows": null,
            "right": null,
            "justify_content": null,
            "_view_module": "@jupyter-widgets/base",
            "overflow": null,
            "_model_module_version": "1.2.0",
            "_view_count": null,
            "flex_flow": null,
            "width": null,
            "min_width": null,
            "border": null,
            "align_items": null,
            "bottom": null,
            "_model_module": "@jupyter-widgets/base",
            "top": null,
            "grid_column": null,
            "overflow_y": null,
            "overflow_x": null,
            "grid_auto_flow": null,
            "grid_area": null,
            "grid_template_columns": null,
            "flex": null,
            "_model_name": "LayoutModel",
            "justify_items": null,
            "grid_row": null,
            "max_height": null,
            "align_content": null,
            "visibility": null,
            "align_self": null,
            "height": null,
            "min_height": null,
            "padding": null,
            "grid_auto_rows": null,
            "grid_gap": null,
            "max_width": null,
            "order": null,
            "_view_module_version": "1.2.0",
            "grid_template_areas": null,
            "object_position": null,
            "object_fit": null,
            "grid_auto_columns": null,
            "margin": null,
            "display": null,
            "left": null
          }
        },
        "fad60836976f41bbad0473312d9c9e56": {
          "model_module": "@jupyter-widgets/controls",
          "model_name": "DescriptionStyleModel",
          "state": {
            "_view_name": "StyleView",
            "_model_name": "DescriptionStyleModel",
            "description_width": "",
            "_view_module": "@jupyter-widgets/base",
            "_model_module_version": "1.5.0",
            "_view_count": null,
            "_view_module_version": "1.2.0",
            "_model_module": "@jupyter-widgets/controls"
          }
        },
        "abde5eaefda44a5c83bd56336b130a86": {
          "model_module": "@jupyter-widgets/base",
          "model_name": "LayoutModel",
          "state": {
            "_view_name": "LayoutView",
            "grid_template_rows": null,
            "right": null,
            "justify_content": null,
            "_view_module": "@jupyter-widgets/base",
            "overflow": null,
            "_model_module_version": "1.2.0",
            "_view_count": null,
            "flex_flow": null,
            "width": null,
            "min_width": null,
            "border": null,
            "align_items": null,
            "bottom": null,
            "_model_module": "@jupyter-widgets/base",
            "top": null,
            "grid_column": null,
            "overflow_y": null,
            "overflow_x": null,
            "grid_auto_flow": null,
            "grid_area": null,
            "grid_template_columns": null,
            "flex": null,
            "_model_name": "LayoutModel",
            "justify_items": null,
            "grid_row": null,
            "max_height": null,
            "align_content": null,
            "visibility": null,
            "align_self": null,
            "height": null,
            "min_height": null,
            "padding": null,
            "grid_auto_rows": null,
            "grid_gap": null,
            "max_width": null,
            "order": null,
            "_view_module_version": "1.2.0",
            "grid_template_areas": null,
            "object_position": null,
            "object_fit": null,
            "grid_auto_columns": null,
            "margin": null,
            "display": null,
            "left": null
          }
        },
        "ceae8f831b3d42b993deb4d77fe64693": {
          "model_module": "@jupyter-widgets/controls",
          "model_name": "HBoxModel",
          "state": {
            "_view_name": "HBoxView",
            "_dom_classes": [],
            "_model_name": "HBoxModel",
            "_view_module": "@jupyter-widgets/controls",
            "_model_module_version": "1.5.0",
            "_view_count": null,
            "_view_module_version": "1.5.0",
            "box_style": "",
            "layout": "IPY_MODEL_53026edf79de4f34924c4c6e397364ad",
            "_model_module": "@jupyter-widgets/controls",
            "children": [
              "IPY_MODEL_6efc60b7b73243deb2fcca31dc4c9b85",
              "IPY_MODEL_49b2626c678d47afac097d23b5ee4d8c"
            ]
          }
        },
        "53026edf79de4f34924c4c6e397364ad": {
          "model_module": "@jupyter-widgets/base",
          "model_name": "LayoutModel",
          "state": {
            "_view_name": "LayoutView",
            "grid_template_rows": null,
            "right": null,
            "justify_content": null,
            "_view_module": "@jupyter-widgets/base",
            "overflow": null,
            "_model_module_version": "1.2.0",
            "_view_count": null,
            "flex_flow": null,
            "width": null,
            "min_width": null,
            "border": null,
            "align_items": null,
            "bottom": null,
            "_model_module": "@jupyter-widgets/base",
            "top": null,
            "grid_column": null,
            "overflow_y": null,
            "overflow_x": null,
            "grid_auto_flow": null,
            "grid_area": null,
            "grid_template_columns": null,
            "flex": null,
            "_model_name": "LayoutModel",
            "justify_items": null,
            "grid_row": null,
            "max_height": null,
            "align_content": null,
            "visibility": null,
            "align_self": null,
            "height": null,
            "min_height": null,
            "padding": null,
            "grid_auto_rows": null,
            "grid_gap": null,
            "max_width": null,
            "order": null,
            "_view_module_version": "1.2.0",
            "grid_template_areas": null,
            "object_position": null,
            "object_fit": null,
            "grid_auto_columns": null,
            "margin": null,
            "display": null,
            "left": null
          }
        },
        "6efc60b7b73243deb2fcca31dc4c9b85": {
          "model_module": "@jupyter-widgets/controls",
          "model_name": "FloatProgressModel",
          "state": {
            "_view_name": "ProgressView",
            "style": "IPY_MODEL_4cb7e401cc4748edae618312858212ff",
            "_dom_classes": [],
            "description": "",
            "_model_name": "FloatProgressModel",
            "bar_style": "info",
            "max": 1,
            "_view_module": "@jupyter-widgets/controls",
            "_model_module_version": "1.5.0",
            "value": 1,
            "_view_count": null,
            "_view_module_version": "1.5.0",
            "orientation": "horizontal",
            "min": 0,
            "description_tooltip": null,
            "_model_module": "@jupyter-widgets/controls",
            "layout": "IPY_MODEL_6dd35149cb814e13ae4c737057f9d74a"
          }
        },
        "49b2626c678d47afac097d23b5ee4d8c": {
          "model_module": "@jupyter-widgets/controls",
          "model_name": "HTMLModel",
          "state": {
            "_view_name": "HTMLView",
            "style": "IPY_MODEL_e75a082d280e448890833370d50cdf8e",
            "_dom_classes": [],
            "description": "",
            "_model_name": "HTMLModel",
            "placeholder": "​",
            "_view_module": "@jupyter-widgets/controls",
            "_model_module_version": "1.5.0",
            "value": " 1654784/? [00:16&lt;00:00, 663972.50it/s]",
            "_view_count": null,
            "_view_module_version": "1.5.0",
            "description_tooltip": null,
            "_model_module": "@jupyter-widgets/controls",
            "layout": "IPY_MODEL_5082b2a2373546f39ca13ed5b076d6ee"
          }
        },
        "4cb7e401cc4748edae618312858212ff": {
          "model_module": "@jupyter-widgets/controls",
          "model_name": "ProgressStyleModel",
          "state": {
            "_view_name": "StyleView",
            "_model_name": "ProgressStyleModel",
            "description_width": "initial",
            "_view_module": "@jupyter-widgets/base",
            "_model_module_version": "1.5.0",
            "_view_count": null,
            "_view_module_version": "1.2.0",
            "bar_color": null,
            "_model_module": "@jupyter-widgets/controls"
          }
        },
        "6dd35149cb814e13ae4c737057f9d74a": {
          "model_module": "@jupyter-widgets/base",
          "model_name": "LayoutModel",
          "state": {
            "_view_name": "LayoutView",
            "grid_template_rows": null,
            "right": null,
            "justify_content": null,
            "_view_module": "@jupyter-widgets/base",
            "overflow": null,
            "_model_module_version": "1.2.0",
            "_view_count": null,
            "flex_flow": null,
            "width": null,
            "min_width": null,
            "border": null,
            "align_items": null,
            "bottom": null,
            "_model_module": "@jupyter-widgets/base",
            "top": null,
            "grid_column": null,
            "overflow_y": null,
            "overflow_x": null,
            "grid_auto_flow": null,
            "grid_area": null,
            "grid_template_columns": null,
            "flex": null,
            "_model_name": "LayoutModel",
            "justify_items": null,
            "grid_row": null,
            "max_height": null,
            "align_content": null,
            "visibility": null,
            "align_self": null,
            "height": null,
            "min_height": null,
            "padding": null,
            "grid_auto_rows": null,
            "grid_gap": null,
            "max_width": null,
            "order": null,
            "_view_module_version": "1.2.0",
            "grid_template_areas": null,
            "object_position": null,
            "object_fit": null,
            "grid_auto_columns": null,
            "margin": null,
            "display": null,
            "left": null
          }
        },
        "e75a082d280e448890833370d50cdf8e": {
          "model_module": "@jupyter-widgets/controls",
          "model_name": "DescriptionStyleModel",
          "state": {
            "_view_name": "StyleView",
            "_model_name": "DescriptionStyleModel",
            "description_width": "",
            "_view_module": "@jupyter-widgets/base",
            "_model_module_version": "1.5.0",
            "_view_count": null,
            "_view_module_version": "1.2.0",
            "_model_module": "@jupyter-widgets/controls"
          }
        },
        "5082b2a2373546f39ca13ed5b076d6ee": {
          "model_module": "@jupyter-widgets/base",
          "model_name": "LayoutModel",
          "state": {
            "_view_name": "LayoutView",
            "grid_template_rows": null,
            "right": null,
            "justify_content": null,
            "_view_module": "@jupyter-widgets/base",
            "overflow": null,
            "_model_module_version": "1.2.0",
            "_view_count": null,
            "flex_flow": null,
            "width": null,
            "min_width": null,
            "border": null,
            "align_items": null,
            "bottom": null,
            "_model_module": "@jupyter-widgets/base",
            "top": null,
            "grid_column": null,
            "overflow_y": null,
            "overflow_x": null,
            "grid_auto_flow": null,
            "grid_area": null,
            "grid_template_columns": null,
            "flex": null,
            "_model_name": "LayoutModel",
            "justify_items": null,
            "grid_row": null,
            "max_height": null,
            "align_content": null,
            "visibility": null,
            "align_self": null,
            "height": null,
            "min_height": null,
            "padding": null,
            "grid_auto_rows": null,
            "grid_gap": null,
            "max_width": null,
            "order": null,
            "_view_module_version": "1.2.0",
            "grid_template_areas": null,
            "object_position": null,
            "object_fit": null,
            "grid_auto_columns": null,
            "margin": null,
            "display": null,
            "left": null
          }
        },
        "1510b3006bc249b8be8368b8521baebf": {
          "model_module": "@jupyter-widgets/controls",
          "model_name": "HBoxModel",
          "state": {
            "_view_name": "HBoxView",
            "_dom_classes": [],
            "_model_name": "HBoxModel",
            "_view_module": "@jupyter-widgets/controls",
            "_model_module_version": "1.5.0",
            "_view_count": null,
            "_view_module_version": "1.5.0",
            "box_style": "",
            "layout": "IPY_MODEL_9baaac95eb5b41cfbe2ae90ee6494226",
            "_model_module": "@jupyter-widgets/controls",
            "children": [
              "IPY_MODEL_4c57eee07baf4380894588e5b3179c38",
              "IPY_MODEL_d10b97436bdb4c519b2df00d18be2702"
            ]
          }
        },
        "9baaac95eb5b41cfbe2ae90ee6494226": {
          "model_module": "@jupyter-widgets/base",
          "model_name": "LayoutModel",
          "state": {
            "_view_name": "LayoutView",
            "grid_template_rows": null,
            "right": null,
            "justify_content": null,
            "_view_module": "@jupyter-widgets/base",
            "overflow": null,
            "_model_module_version": "1.2.0",
            "_view_count": null,
            "flex_flow": null,
            "width": null,
            "min_width": null,
            "border": null,
            "align_items": null,
            "bottom": null,
            "_model_module": "@jupyter-widgets/base",
            "top": null,
            "grid_column": null,
            "overflow_y": null,
            "overflow_x": null,
            "grid_auto_flow": null,
            "grid_area": null,
            "grid_template_columns": null,
            "flex": null,
            "_model_name": "LayoutModel",
            "justify_items": null,
            "grid_row": null,
            "max_height": null,
            "align_content": null,
            "visibility": null,
            "align_self": null,
            "height": null,
            "min_height": null,
            "padding": null,
            "grid_auto_rows": null,
            "grid_gap": null,
            "max_width": null,
            "order": null,
            "_view_module_version": "1.2.0",
            "grid_template_areas": null,
            "object_position": null,
            "object_fit": null,
            "grid_auto_columns": null,
            "margin": null,
            "display": null,
            "left": null
          }
        },
        "4c57eee07baf4380894588e5b3179c38": {
          "model_module": "@jupyter-widgets/controls",
          "model_name": "FloatProgressModel",
          "state": {
            "_view_name": "ProgressView",
            "style": "IPY_MODEL_cab4d707cbd644c781f6d504b1222d29",
            "_dom_classes": [],
            "description": "  0%",
            "_model_name": "FloatProgressModel",
            "bar_style": "info",
            "max": 1,
            "_view_module": "@jupyter-widgets/controls",
            "_model_module_version": "1.5.0",
            "value": 0,
            "_view_count": null,
            "_view_module_version": "1.5.0",
            "orientation": "horizontal",
            "min": 0,
            "description_tooltip": null,
            "_model_module": "@jupyter-widgets/controls",
            "layout": "IPY_MODEL_ffe9eede6f99468bbe80f0e94cfec948"
          }
        },
        "d10b97436bdb4c519b2df00d18be2702": {
          "model_module": "@jupyter-widgets/controls",
          "model_name": "HTMLModel",
          "state": {
            "_view_name": "HTMLView",
            "style": "IPY_MODEL_018af662a2ce4706b91f3b91f75e3e3e",
            "_dom_classes": [],
            "description": "",
            "_model_name": "HTMLModel",
            "placeholder": "​",
            "_view_module": "@jupyter-widgets/controls",
            "_model_module_version": "1.5.0",
            "value": " 0/4542 [00:00&lt;?, ?it/s]",
            "_view_count": null,
            "_view_module_version": "1.5.0",
            "description_tooltip": null,
            "_model_module": "@jupyter-widgets/controls",
            "layout": "IPY_MODEL_d8ceb1e3efed41eabc4347ae62e5bdd1"
          }
        },
        "cab4d707cbd644c781f6d504b1222d29": {
          "model_module": "@jupyter-widgets/controls",
          "model_name": "ProgressStyleModel",
          "state": {
            "_view_name": "StyleView",
            "_model_name": "ProgressStyleModel",
            "description_width": "initial",
            "_view_module": "@jupyter-widgets/base",
            "_model_module_version": "1.5.0",
            "_view_count": null,
            "_view_module_version": "1.2.0",
            "bar_color": null,
            "_model_module": "@jupyter-widgets/controls"
          }
        },
        "ffe9eede6f99468bbe80f0e94cfec948": {
          "model_module": "@jupyter-widgets/base",
          "model_name": "LayoutModel",
          "state": {
            "_view_name": "LayoutView",
            "grid_template_rows": null,
            "right": null,
            "justify_content": null,
            "_view_module": "@jupyter-widgets/base",
            "overflow": null,
            "_model_module_version": "1.2.0",
            "_view_count": null,
            "flex_flow": null,
            "width": null,
            "min_width": null,
            "border": null,
            "align_items": null,
            "bottom": null,
            "_model_module": "@jupyter-widgets/base",
            "top": null,
            "grid_column": null,
            "overflow_y": null,
            "overflow_x": null,
            "grid_auto_flow": null,
            "grid_area": null,
            "grid_template_columns": null,
            "flex": null,
            "_model_name": "LayoutModel",
            "justify_items": null,
            "grid_row": null,
            "max_height": null,
            "align_content": null,
            "visibility": null,
            "align_self": null,
            "height": null,
            "min_height": null,
            "padding": null,
            "grid_auto_rows": null,
            "grid_gap": null,
            "max_width": null,
            "order": null,
            "_view_module_version": "1.2.0",
            "grid_template_areas": null,
            "object_position": null,
            "object_fit": null,
            "grid_auto_columns": null,
            "margin": null,
            "display": null,
            "left": null
          }
        },
        "018af662a2ce4706b91f3b91f75e3e3e": {
          "model_module": "@jupyter-widgets/controls",
          "model_name": "DescriptionStyleModel",
          "state": {
            "_view_name": "StyleView",
            "_model_name": "DescriptionStyleModel",
            "description_width": "",
            "_view_module": "@jupyter-widgets/base",
            "_model_module_version": "1.5.0",
            "_view_count": null,
            "_view_module_version": "1.2.0",
            "_model_module": "@jupyter-widgets/controls"
          }
        },
        "d8ceb1e3efed41eabc4347ae62e5bdd1": {
          "model_module": "@jupyter-widgets/base",
          "model_name": "LayoutModel",
          "state": {
            "_view_name": "LayoutView",
            "grid_template_rows": null,
            "right": null,
            "justify_content": null,
            "_view_module": "@jupyter-widgets/base",
            "overflow": null,
            "_model_module_version": "1.2.0",
            "_view_count": null,
            "flex_flow": null,
            "width": null,
            "min_width": null,
            "border": null,
            "align_items": null,
            "bottom": null,
            "_model_module": "@jupyter-widgets/base",
            "top": null,
            "grid_column": null,
            "overflow_y": null,
            "overflow_x": null,
            "grid_auto_flow": null,
            "grid_area": null,
            "grid_template_columns": null,
            "flex": null,
            "_model_name": "LayoutModel",
            "justify_items": null,
            "grid_row": null,
            "max_height": null,
            "align_content": null,
            "visibility": null,
            "align_self": null,
            "height": null,
            "min_height": null,
            "padding": null,
            "grid_auto_rows": null,
            "grid_gap": null,
            "max_width": null,
            "order": null,
            "_view_module_version": "1.2.0",
            "grid_template_areas": null,
            "object_position": null,
            "object_fit": null,
            "grid_auto_columns": null,
            "margin": null,
            "display": null,
            "left": null
          }
        }
      }
    }
  },
  "cells": [
    {
      "cell_type": "markdown",
      "metadata": {
        "id": "view-in-github",
        "colab_type": "text"
      },
      "source": [
        "<a href=\"https://colab.research.google.com/github/juhoney/artificial_intelligence/blob/main/Untitled0.ipynb\" target=\"_parent\"><img src=\"https://colab.research.google.com/assets/colab-badge.svg\" alt=\"Open In Colab\"/></a>"
      ]
    },
    {
      "cell_type": "code",
      "metadata": {
        "id": "eWtTzpr1FfU1"
      },
      "source": [
        "import torch"
      ],
      "execution_count": 7,
      "outputs": []
    },
    {
      "cell_type": "code",
      "metadata": {
        "id": "NYMN8E2dGZyT"
      },
      "source": [
        "import torch\r\n",
        "import torch.nn as nn\r\n",
        "import torch.optim as optim\r\n",
        "import torchvision.utils as utils\r\n",
        "import torchvision.datasets as dsets\r\n",
        "import torchvision.transforms as transforms\r\n",
        "\r\n",
        "is_cuda = torch.cuda.is_available()\r\n",
        "device = torch.device('cuda'if is_cuda else 'cpu')"
      ],
      "execution_count": 6,
      "outputs": []
    },
    {
      "cell_type": "code",
      "metadata": {
        "colab": {
          "base_uri": "https://localhost:8080/"
        },
        "id": "Pu4QlZ_6GalC",
        "outputId": "545beca2-0220-4a0a-ae39-6a6cc6ad1127"
      },
      "source": [
        "device"
      ],
      "execution_count": 8,
      "outputs": [
        {
          "output_type": "execute_result",
          "data": {
            "text/plain": [
              "device(type='cpu')"
            ]
          },
          "metadata": {
            "tags": []
          },
          "execution_count": 8
        }
      ]
    },
    {
      "cell_type": "code",
      "metadata": {
        "colab": {
          "base_uri": "https://localhost:8080/",
          "height": 446,
          "referenced_widgets": [
            "7975e42075d34b1293fdd9c2d83a6909",
            "7814b0405fe94a3b89b3e11bb6719959",
            "f9a53a7be626400f8fa705403cbde9fd",
            "85afe0f4a3e74ef09882ce474edcf9fb",
            "d768ca1424cd4f0bb9a449b8ea16b444",
            "5eb11e3645b44549a821bd279d6b2240",
            "a6cadaee62c142c6b69f65fd88632ffa",
            "373bb8ac3c8547ff8aca965158a19f4b",
            "907dadaa4d7b4966b58fddfe682f7ee3",
            "da385757e63c4a63be317be2315af7f8",
            "879b323c3ceb43b78ccb5c9349de0555",
            "066639b6a8db4e32bc621365daa82808",
            "4265c11552134635a0eb986be1398370",
            "3c944a5b397843fa822c1b5fe0256169",
            "fad60836976f41bbad0473312d9c9e56",
            "abde5eaefda44a5c83bd56336b130a86",
            "ceae8f831b3d42b993deb4d77fe64693",
            "53026edf79de4f34924c4c6e397364ad",
            "6efc60b7b73243deb2fcca31dc4c9b85",
            "49b2626c678d47afac097d23b5ee4d8c",
            "4cb7e401cc4748edae618312858212ff",
            "6dd35149cb814e13ae4c737057f9d74a",
            "e75a082d280e448890833370d50cdf8e",
            "5082b2a2373546f39ca13ed5b076d6ee",
            "1510b3006bc249b8be8368b8521baebf",
            "9baaac95eb5b41cfbe2ae90ee6494226",
            "4c57eee07baf4380894588e5b3179c38",
            "d10b97436bdb4c519b2df00d18be2702",
            "cab4d707cbd644c781f6d504b1222d29",
            "ffe9eede6f99468bbe80f0e94cfec948",
            "018af662a2ce4706b91f3b91f75e3e3e",
            "d8ceb1e3efed41eabc4347ae62e5bdd1"
          ]
        },
        "id": "zb8LuXZtGnZf",
        "outputId": "928fe7a7-ca70-497c-e477-3c526ff5bbff"
      },
      "source": [
        "# MNIST dataset\r\n",
        "train_data = dsets.MNIST(root='data/', train=True, transform=transforms.ToTensor(), download=True)\r\n",
        "test_data = dsets.MNIST(root='data/', train=False, transform=transforms.ToTensor(), download=True)\r\n",
        "\r\n",
        "print('number of training data: ', len(train_data))\r\n",
        "print('number of test data: ', len(test_data))"
      ],
      "execution_count": 12,
      "outputs": [
        {
          "output_type": "stream",
          "text": [
            "Downloading http://yann.lecun.com/exdb/mnist/train-images-idx3-ubyte.gz to data/MNIST/raw/train-images-idx3-ubyte.gz\n"
          ],
          "name": "stdout"
        },
        {
          "output_type": "display_data",
          "data": {
            "application/vnd.jupyter.widget-view+json": {
              "model_id": "7975e42075d34b1293fdd9c2d83a6909",
              "version_minor": 0,
              "version_major": 2
            },
            "text/plain": [
              "HBox(children=(FloatProgress(value=1.0, bar_style='info', max=1.0), HTML(value='')))"
            ]
          },
          "metadata": {
            "tags": []
          }
        },
        {
          "output_type": "stream",
          "text": [
            "Extracting data/MNIST/raw/train-images-idx3-ubyte.gz to data/MNIST/raw\n",
            "Downloading http://yann.lecun.com/exdb/mnist/train-labels-idx1-ubyte.gz to data/MNIST/raw/train-labels-idx1-ubyte.gz\n"
          ],
          "name": "stdout"
        },
        {
          "output_type": "display_data",
          "data": {
            "application/vnd.jupyter.widget-view+json": {
              "model_id": "907dadaa4d7b4966b58fddfe682f7ee3",
              "version_minor": 0,
              "version_major": 2
            },
            "text/plain": [
              "HBox(children=(FloatProgress(value=1.0, bar_style='info', max=1.0), HTML(value='')))"
            ]
          },
          "metadata": {
            "tags": []
          }
        },
        {
          "output_type": "stream",
          "text": [
            "Extracting data/MNIST/raw/train-labels-idx1-ubyte.gz to data/MNIST/raw\n",
            "Downloading http://yann.lecun.com/exdb/mnist/t10k-images-idx3-ubyte.gz to data/MNIST/raw/t10k-images-idx3-ubyte.gz\n",
            "\n",
            "\n"
          ],
          "name": "stdout"
        },
        {
          "output_type": "display_data",
          "data": {
            "application/vnd.jupyter.widget-view+json": {
              "model_id": "ceae8f831b3d42b993deb4d77fe64693",
              "version_minor": 0,
              "version_major": 2
            },
            "text/plain": [
              "HBox(children=(FloatProgress(value=1.0, bar_style='info', max=1.0), HTML(value='')))"
            ]
          },
          "metadata": {
            "tags": []
          }
        },
        {
          "output_type": "stream",
          "text": [
            "Extracting data/MNIST/raw/t10k-images-idx3-ubyte.gz to data/MNIST/raw\n",
            "Downloading http://yann.lecun.com/exdb/mnist/t10k-labels-idx1-ubyte.gz to data/MNIST/raw/t10k-labels-idx1-ubyte.gz\n"
          ],
          "name": "stdout"
        },
        {
          "output_type": "display_data",
          "data": {
            "application/vnd.jupyter.widget-view+json": {
              "model_id": "1510b3006bc249b8be8368b8521baebf",
              "version_minor": 0,
              "version_major": 2
            },
            "text/plain": [
              "HBox(children=(FloatProgress(value=1.0, bar_style='info', max=1.0), HTML(value='')))"
            ]
          },
          "metadata": {
            "tags": []
          }
        },
        {
          "output_type": "stream",
          "text": [
            "Extracting data/MNIST/raw/t10k-labels-idx1-ubyte.gz to data/MNIST/raw\n",
            "Processing...\n",
            "Done!\n",
            "number of training data:  60000\n",
            "number of test data:  10000\n"
          ],
          "name": "stdout"
        },
        {
          "output_type": "stream",
          "text": [
            "/usr/local/lib/python3.6/dist-packages/torchvision/datasets/mnist.py:480: UserWarning: The given NumPy array is not writeable, and PyTorch does not support non-writeable tensors. This means you can write to the underlying (supposedly non-writeable) NumPy array using the tensor. You may want to copy the array to protect its data or make it writeable before converting it to a tensor. This type of warning will be suppressed for the rest of this program. (Triggered internally at  /pytorch/torch/csrc/utils/tensor_numpy.cpp:141.)\n",
            "  return torch.from_numpy(parsed.astype(m[2], copy=False)).view(*s)\n"
          ],
          "name": "stderr"
        }
      ]
    },
    {
      "cell_type": "code",
      "metadata": {
        "colab": {
          "base_uri": "https://localhost:8080/"
        },
        "id": "KnMFNQMnHZCU",
        "outputId": "4aed11bc-0382-4cb8-f85c-24da1c0138c8"
      },
      "source": [
        "image, label = train_data[0]\r\n",
        "\r\n",
        "print('Label')\r\n",
        "print('=========================================')\r\n",
        "print('shape of this image|t:', image.shape) \r\n",
        "\r\n",
        "print('Label')\r\n",
        "print('=========================================')\r\n",
        "print('label: ', label)"
      ],
      "execution_count": 15,
      "outputs": [
        {
          "output_type": "stream",
          "text": [
            "Label\n",
            "=========================================\n",
            "shape of this image|t: torch.Size([1, 28, 28])\n",
            "Label\n",
            "=========================================\n",
            "label:  5\n"
          ],
          "name": "stdout"
        }
      ]
    },
    {
      "cell_type": "code",
      "metadata": {
        "colab": {
          "base_uri": "https://localhost:8080/",
          "height": 281
        },
        "id": "9azLmhrMMaNO",
        "outputId": "3189b034-f796-40dc-f72d-080f35ddc6fe"
      },
      "source": [
        "from matplotlib import pyplot as plt\r\n",
        "plt.imshow(image.squeeze().numpy(), cmap='gray')\r\n",
        "plt.title('%i' % label)\r\n",
        "plt.show()"
      ],
      "execution_count": 16,
      "outputs": [
        {
          "output_type": "display_data",
          "data": {
            "image/png": "[encoded data removed]",
            "text/plain": [
              "<Figure size 432x288 with 1 Axes>"
            ]
          },
          "metadata": {
            "tags": [],
            "needs_background": "light"
          }
        }
      ]
    },
    {
      "cell_type": "code",
      "metadata": {
        "id": "w39csGCUNKHa"
      },
      "source": [
        "mlp = nn.Sequential(\r\n",
        "    nn.Linear(28*28, 256),\r\n",
        "    nn.LeakyReLU(0,1),\r\n",
        "    nn.Linear(256,10),\r\n",
        "    nn.Softmax(dim=-1)\r\n",
        "\r\n",
        ").to(device)"
      ],
      "execution_count": 18,
      "outputs": []
    },
    {
      "cell_type": "code",
      "metadata": {
        "colab": {
          "base_uri": "https://localhost:8080/"
        },
        "id": "8Usf-mCYOV_m",
        "outputId": "9bf620aa-d5fe-4a07-9b33-733f971ca0be"
      },
      "source": [
        "import time\r\n",
        "\r\n",
        "def run_epoch (model, train_data, test_data, optimizer, criterion):\r\n",
        "\r\n",
        "  start_time = time.time()\r\n",
        "  for img_i, label_i in train_data:\r\n",
        "\r\n",
        "    img_i, label_i = img_i.to(device), label_i\r\n",
        "    \r\n",
        "    optimizer.zero_grad()\r\n",
        "\r\n",
        "    label_predicted = mlp.forward(img_i.view(-1, 28*28))\r\n",
        "    loss = criterion(torch.log(label_predicted), label_i)\r\n",
        "    loss.backward()\r\n",
        "    optimizer.step()\r\n",
        "\r\n",
        "  total_test_loss = 0\r\n",
        "  for img_j, label_j in test_data:\r\n",
        "\r\n",
        "    img_j, label_j = img_j.to(device), label_j\r\n",
        "\r\n",
        "    with torch.autograd.no_grad():\r\n",
        "      label_predicted = mlp.forward(img_j.view(-1, 28*28))\r\n",
        "      total_test_loss += criterion(torch.log(label_predicted), label_j.view(-1)).item()\r\n",
        "\r\n",
        "  end_time = time.time()\r\n",
        "  return total_test_loss, (end_time - start_time)\r\n",
        "\r\n",
        "optimizer = optim.Adam(mlp.parameters(), lr=0.0001)\r\n",
        "critertion = nn.NLLLoss()\r\n",
        "\r\n",
        "for epoch in range(50):\r\n",
        "  test_loss, response = run_epoch (mlp, train_data_loader, test_data_loader, optimizer, critertion)\r\n",
        "  print('epoch', epoch, ': ')\r\n",
        "  print('test_loss:', test_loss)\r\n",
        "  print('response(s): ', response)\r\n"
      ],
      "execution_count": 29,
      "outputs": [
        {
          "output_type": "stream",
          "text": [
            "epoch 0 : \n",
            "|ttest_loss: 12.984965343028307\n",
            "|tresponse(s):  10.020083904266357\n",
            "epoch 1 : \n",
            "|ttest_loss: 12.161900822073221\n",
            "|tresponse(s):  10.023003339767456\n",
            "epoch 2 : \n",
            "|ttest_loss: 11.435370225459337\n",
            "|tresponse(s):  10.078542709350586\n",
            "epoch 3 : \n",
            "|ttest_loss: 10.757444262504578\n",
            "|tresponse(s):  10.108599424362183\n",
            "epoch 4 : \n",
            "|ttest_loss: 10.2121108956635\n",
            "|tresponse(s):  10.046511888504028\n",
            "epoch 5 : \n",
            "|ttest_loss: 9.762604327872396\n",
            "|tresponse(s):  10.074708700180054\n",
            "epoch 6 : \n",
            "|ttest_loss: 9.303208777680993\n",
            "|tresponse(s):  10.030637264251709\n",
            "epoch 7 : \n",
            "|ttest_loss: 8.86182312015444\n",
            "|tresponse(s):  10.043602228164673\n",
            "epoch 8 : \n",
            "|ttest_loss: 8.47241267375648\n",
            "|tresponse(s):  10.085028409957886\n",
            "epoch 9 : \n",
            "|ttest_loss: 8.100939077325165\n",
            "|tresponse(s):  9.99173092842102\n",
            "epoch 10 : \n",
            "|ttest_loss: 7.807572045363486\n",
            "|tresponse(s):  10.034520626068115\n",
            "epoch 11 : \n",
            "|ttest_loss: 7.497218605130911\n",
            "|tresponse(s):  10.043924570083618\n",
            "epoch 12 : \n",
            "|ttest_loss: 7.276849607005715\n",
            "|tresponse(s):  10.049955606460571\n",
            "epoch 13 : \n",
            "|ttest_loss: 7.012377103790641\n",
            "|tresponse(s):  10.053149700164795\n",
            "epoch 14 : \n",
            "|ttest_loss: 6.821633271872997\n",
            "|tresponse(s):  10.071926832199097\n",
            "epoch 15 : \n",
            "|ttest_loss: 6.515655154827982\n",
            "|tresponse(s):  10.081522226333618\n",
            "epoch 16 : \n",
            "|ttest_loss: 6.364350619725883\n",
            "|tresponse(s):  10.02808403968811\n",
            "epoch 17 : \n",
            "|ttest_loss: 6.17656590230763\n",
            "|tresponse(s):  10.034896850585938\n",
            "epoch 18 : \n",
            "|ttest_loss: 6.002710544504225\n",
            "|tresponse(s):  10.032910346984863\n",
            "epoch 19 : \n",
            "|ttest_loss: 5.834802124649286\n",
            "|tresponse(s):  10.029180526733398\n",
            "epoch 20 : \n",
            "|ttest_loss: 5.674145593307912\n",
            "|tresponse(s):  10.07539963722229\n",
            "epoch 21 : \n",
            "|ttest_loss: 5.533075954765081\n",
            "|tresponse(s):  10.03688383102417\n",
            "epoch 22 : \n",
            "|ttest_loss: 5.407647594809532\n",
            "|tresponse(s):  9.990350484848022\n",
            "epoch 23 : \n",
            "|ttest_loss: 5.308734597638249\n",
            "|tresponse(s):  10.026323318481445\n",
            "epoch 24 : \n",
            "|ttest_loss: 5.216907761991024\n",
            "|tresponse(s):  10.007795095443726\n",
            "epoch 25 : \n",
            "|ttest_loss: 5.086600887821987\n",
            "|tresponse(s):  9.986938238143921\n",
            "epoch 26 : \n",
            "|ttest_loss: 4.965397939551622\n",
            "|tresponse(s):  10.082231044769287\n",
            "epoch 27 : \n",
            "|ttest_loss: 4.861798485741019\n",
            "|tresponse(s):  9.994544267654419\n",
            "epoch 28 : \n",
            "|ttest_loss: 4.773611058015376\n",
            "|tresponse(s):  9.99886178970337\n",
            "epoch 29 : \n",
            "|ttest_loss: 4.682553976774216\n",
            "|tresponse(s):  9.970939874649048\n",
            "epoch 30 : \n",
            "|ttest_loss: 4.680916180135682\n",
            "|tresponse(s):  10.033716201782227\n",
            "epoch 31 : \n",
            "|ttest_loss: 4.51962873688899\n",
            "|tresponse(s):  9.994874000549316\n",
            "epoch 32 : \n",
            "|ttest_loss: 4.4659194748383015\n",
            "|tresponse(s):  9.986770153045654\n",
            "epoch 33 : \n",
            "|ttest_loss: 4.414230953902006\n",
            "|tresponse(s):  9.991103649139404\n",
            "epoch 34 : \n",
            "|ttest_loss: 4.362424728227779\n",
            "|tresponse(s):  9.98606014251709\n",
            "epoch 35 : \n",
            "|ttest_loss: 4.343599966261536\n",
            "|tresponse(s):  9.985962629318237\n",
            "epoch 36 : \n",
            "|ttest_loss: 4.215886178193614\n",
            "|tresponse(s):  9.992814064025879\n",
            "epoch 37 : \n",
            "|ttest_loss: 4.202036153059453\n",
            "|tresponse(s):  10.006077766418457\n",
            "epoch 38 : \n",
            "|ttest_loss: 4.139357564970851\n",
            "|tresponse(s):  9.987717628479004\n",
            "epoch 39 : \n",
            "|ttest_loss: 4.072390340734273\n",
            "|tresponse(s):  10.045095682144165\n",
            "epoch 40 : \n",
            "|ttest_loss: 3.9900845501106232\n",
            "|tresponse(s):  10.003642559051514\n",
            "epoch 41 : \n",
            "|ttest_loss: 4.051732487278059\n",
            "|tresponse(s):  10.030571937561035\n",
            "epoch 42 : \n",
            "|ttest_loss: 3.9582025094423443\n",
            "|tresponse(s):  9.98444676399231\n",
            "epoch 43 : \n",
            "|ttest_loss: 3.8816265305504203\n",
            "|tresponse(s):  10.009503602981567\n",
            "epoch 44 : \n",
            "|ttest_loss: 3.8781703462591395\n",
            "|tresponse(s):  10.056180000305176\n",
            "epoch 45 : \n",
            "|ttest_loss: 3.9029496541479602\n",
            "|tresponse(s):  10.01442813873291\n",
            "epoch 46 : \n",
            "|ttest_loss: 3.798672897624783\n",
            "|tresponse(s):  10.068332433700562\n",
            "epoch 47 : \n",
            "|ttest_loss: 3.7809514253167436\n",
            "|tresponse(s):  10.014528036117554\n",
            "epoch 48 : \n",
            "|ttest_loss: 3.7532452509040013\n",
            "|tresponse(s):  9.97214651107788\n",
            "epoch 49 : \n",
            "|ttest_loss: 3.6771708807209507\n",
            "|tresponse(s):  9.975003242492676\n"
          ],
          "name": "stdout"
        }
      ]
    },
    {
      "cell_type": "code",
      "metadata": {
        "id": "_sCIfT3mSW42"
      },
      "source": [
        "batch_size = 200\r\n",
        "\r\n",
        "train_data_loader = torch.utils.data.DataLoader(train_data, batch_size, shuffle=True)\r\n",
        "test_data_loader = torch.utils.data.DataLoader(test_data, batch_size, shuffle=False)"
      ],
      "execution_count": 21,
      "outputs": []
    },
    {
      "cell_type": "code",
      "metadata": {
        "id": "1Uhtbdz2TgIM"
      },
      "source": [
        ""
      ],
      "execution_count": null,
      "outputs": []
    }
  ]
}